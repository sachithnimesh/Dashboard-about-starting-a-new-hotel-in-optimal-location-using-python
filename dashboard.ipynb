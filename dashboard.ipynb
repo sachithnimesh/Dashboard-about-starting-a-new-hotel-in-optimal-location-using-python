{
 "cells": [
  {
   "cell_type": "code",
   "execution_count": 13,
   "id": "9ea9c6d4",
   "metadata": {
    "scrolled": false
   },
   "outputs": [
    {
     "data": {
      "text/html": [
       "\n",
       "        <iframe\n",
       "            width=\"100%\"\n",
       "            height=\"650\"\n",
       "            src=\"http://127.0.0.1:8050/\"\n",
       "            frameborder=\"0\"\n",
       "            allowfullscreen\n",
       "            \n",
       "        ></iframe>\n",
       "        "
      ],
      "text/plain": [
       "<IPython.lib.display.IFrame at 0x210aa09a9d0>"
      ]
     },
     "metadata": {},
     "output_type": "display_data"
    },
    {
     "name": "stderr",
     "output_type": "stream",
     "text": [
      "C:\\Users\\sachi\\anaconda3\\Lib\\site-packages\\sklearn\\base.py:464: UserWarning:\n",
      "\n",
      "X does not have valid feature names, but StandardScaler was fitted with feature names\n",
      "\n",
      "C:\\Users\\sachi\\anaconda3\\Lib\\site-packages\\sklearn\\base.py:464: UserWarning:\n",
      "\n",
      "X does not have valid feature names, but KMeans was fitted with feature names\n",
      "\n"
     ]
    },
    {
     "name": "stdout",
     "output_type": "stream",
     "text": [
      "\u001b[1;31m---------------------------------------------------------------------------\u001b[0m\n",
      "\u001b[1;31mNameError\u001b[0m                                 Traceback (most recent call last)\n",
      "\u001b[1;31mNameError\u001b[0m: name 'gdf' is not defined\n",
      "\n"
     ]
    },
    {
     "name": "stderr",
     "output_type": "stream",
     "text": [
      "C:\\Users\\sachi\\anaconda3\\Lib\\site-packages\\sklearn\\base.py:464: UserWarning:\n",
      "\n",
      "X does not have valid feature names, but StandardScaler was fitted with feature names\n",
      "\n",
      "C:\\Users\\sachi\\anaconda3\\Lib\\site-packages\\sklearn\\base.py:464: UserWarning:\n",
      "\n",
      "X does not have valid feature names, but KMeans was fitted with feature names\n",
      "\n"
     ]
    },
    {
     "name": "stdout",
     "output_type": "stream",
     "text": [
      "\u001b[1;31m---------------------------------------------------------------------------\u001b[0m\n",
      "\u001b[1;31mNameError\u001b[0m                                 Traceback (most recent call last)\n",
      "\u001b[1;31mNameError\u001b[0m: name 'gdf' is not defined\n",
      "\n"
     ]
    }
   ],
   "source": [
    "import dash\n",
    "from dash import dcc, html\n",
    "import plotly.express as px\n",
    "import pandas as pd\n",
    "\n",
    "\n",
    "df = pd.read_csv('data.csv')\n",
    "df = df.dropna()\n",
    "\n",
    "# Initialize the Dash app\n",
    "app = dash.Dash(__name__)\n",
    "\n",
    "# Define the layout of the dashboard\n",
    "app.layout = html.Div(children=[\n",
    "    html.H1(children='Hotel AGA Division Predictor'),\n",
    "\n",
    "    html.Div(children='''\n",
    "        Enter the details to predict AGA Division:\n",
    "    '''),\n",
    "\n",
    "    # Input components for Type, Rooms, and Grade\n",
    "    dcc.Input(id='input-type', type='text', value='DELUXE', placeholder='Enter Type'),\n",
    "    dcc.Input(id='input-rooms', type='number', value=4, placeholder='Enter Rooms'),\n",
    "    dcc.Input(id='input-grade', type='text', value='A', placeholder='Enter Grade'),\n",
    "\n",
    "    # Output component to display suggested AGA Division\n",
    "    html.Div(id='output-aga-division', children=''),\n",
    "\n",
    "    # Scatter plot showing the data\n",
    "    dcc.Graph(\n",
    "        id='scatter-plot',\n",
    "        figure=px.scatter(df, x='Rooms', y='AGA Division', color='Grade', size='Rooms')\n",
    "    )\n",
    "])\n",
    "\n",
    "# Callback function to update the output based on user input\n",
    "@app.callback(\n",
    "    dash.dependencies.Output('output-aga-division', 'children'),\n",
    "    [dash.dependencies.Input('input-type', 'value'),\n",
    "     dash.dependencies.Input('input-rooms', 'value'),\n",
    "     dash.dependencies.Input('input-grade', 'value')]\n",
    ")\n",
    "def update_output(type_value, rooms_value, grade_value):\n",
    "    # Assuming you have the necessary functions to transform and predict\n",
    "    # Replace the following lines with your actual transformation and prediction logic\n",
    "    transformed_data = label_encoder.transform([type_value, grade_value])\n",
    "    scaled_data = scaler.transform([[transformed_data[0], rooms_value, transformed_data[1]]])\n",
    "    predicted_cluster = kmeans.predict(scaled_data)\n",
    "    suggested_aga_division = gdf[gdf['Cluster'] == predicted_cluster[0]]['AGA Division'].mode().values[0]\n",
    "    \n",
    "    return f\"Suggested AGA Division: {suggested_aga_division}\"\n",
    "\n",
    "# Run the app\n",
    "if __name__ == '__main__':\n",
    "    app.run_server(debug=True)\n"
   ]
  }
 ],
 "metadata": {
  "kernelspec": {
   "display_name": "Python 3 (ipykernel)",
   "language": "python",
   "name": "python3"
  },
  "language_info": {
   "codemirror_mode": {
    "name": "ipython",
    "version": 3
   },
   "file_extension": ".py",
   "mimetype": "text/x-python",
   "name": "python",
   "nbconvert_exporter": "python",
   "pygments_lexer": "ipython3",
   "version": "3.11.5"
  }
 },
 "nbformat": 4,
 "nbformat_minor": 5
}
